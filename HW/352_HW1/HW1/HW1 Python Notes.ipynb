{
 "cells": [
  {
   "cell_type": "code",
   "execution_count": 1,
   "metadata": {},
   "outputs": [],
   "source": [
    "import numpy as np\n",
    "import matplotlib.pyplot as plt\n",
    "import scipy.sparse as sp\n",
    "import scipy.sparse.linalg as spla\n",
    "from numpy import linalg as LA"
   ]
  },
  {
   "cell_type": "code",
   "execution_count": 2,
   "metadata": {},
   "outputs": [],
   "source": [
    "#timestep\n",
    "dt = 0.1"
   ]
  },
  {
   "cell_type": "markdown",
   "metadata": {},
   "source": [
    "# Heun"
   ]
  },
  {
   "cell_type": "code",
   "execution_count": 3,
   "metadata": {},
   "outputs": [],
   "source": [
    "t0 = 0\n",
    "Tf = 10.\n",
    "# dti = 1./dt\n",
    "\n",
    "t = t0\n",
    "N = 100\n",
    "\n",
    "nsteps = int(round((Tf-t0)/dt))\n",
    "I = np.identity(N)\n",
    "IC = np.ones((N,1))\n",
    "\n",
    "#matrix compression\n",
    "A = sp.diags([1., -2., 1.], [-1, 0, 1], shape=[N, N], format = 'csr')\n",
    "Af = sp.csr_matrix.toarray(A)\n",
    "\n",
    "#diagonalize\n",
    "D, T = LA.eig(Af)"
   ]
  },
  {
   "cell_type": "code",
   "execution_count": 4,
   "metadata": {},
   "outputs": [
    {
     "name": "stdout",
     "output_type": "stream",
     "text": [
      "0.0013958084652958558\n"
     ]
    }
   ],
   "source": [
    "mat = I + dt*A + dt*dt/2.*A*A\n",
    "\n",
    "#uc = u_n, unew = u_(n+1)\n",
    "\n",
    "uc = IC\n",
    "z0 = LA.solve(T,uc)\n",
    "errors = np.zeros(nsteps)\n",
    "\n",
    "for k in range(0,nsteps):\n",
    "    t += dt\n",
    "    Dt = D*t\n",
    "    unew = mat*uc\n",
    "    uc = unew\n",
    "    yex = np.dot(T,np.dot(np.diag(np.exp(Dt)),z0))\n",
    "    errors[k] = np.max(np.abs(unew-yex))\n",
    "\n",
    "print(np.max(errors))"
   ]
  },
  {
   "cell_type": "markdown",
   "metadata": {},
   "source": [
    "# AB2"
   ]
  },
  {
   "cell_type": "code",
   "execution_count": 5,
   "metadata": {},
   "outputs": [],
   "source": [
    "t0 = 0\n",
    "Tf = 10.\n",
    "dti = 1./dt\n",
    "\n",
    "t = t0\n",
    "N = 100\n",
    "\n",
    "nsteps = int(round((Tf-t0)/dt))\n",
    "I = np.identity(N)\n",
    "IC = np.ones((N,1))\n",
    "\n",
    "#matrix compression\n",
    "A = sp.diags([1., -2., 1.], [-1, 0, 1], shape=[N, N], format = 'csr')\n",
    "Af = sp.csr_matrix.toarray(A)\n",
    "\n",
    "#diagonalize\n",
    "D, T = LA.eig(Af)"
   ]
  },
  {
   "cell_type": "code",
   "execution_count": 6,
   "metadata": {},
   "outputs": [
    {
     "name": "stdout",
     "output_type": "stream",
     "text": [
      "0.002518750935008085\n"
     ]
    }
   ],
   "source": [
    "mat1 = I + (3/2.) * dt * A\n",
    "mat2 = (dt/2) * A\n",
    "\n",
    "uc1 = IC\n",
    "uc2 = (I + dt*A + dt*dt/2.*A*A) * uc1 # Heun u_i+1 = 矩阵 * u_i\n",
    "z0 = LA.solve(T,uc2)\n",
    "error_ab2 = np.zeros(nsteps)\n",
    "\n",
    "for k in range(2,nsteps):\n",
    "    t += dt\n",
    "    Dt = D*t\n",
    "    unew = mat1 * uc2 - mat2 * uc1\n",
    "    uc1 = uc2\n",
    "    uc2 = unew\n",
    "    \n",
    "    yex = np.dot(T,np.dot(np.diag(np.exp(Dt)),z0))\n",
    "    error_ab2[k] = np.max(np.abs(unew-yex)) \n",
    "\n",
    "print(np.max(error_ab2))"
   ]
  },
  {
   "cell_type": "code",
   "execution_count": 7,
   "metadata": {
    "scrolled": false
   },
   "outputs": [
    {
     "data": {
      "text/plain": [
       "[<matplotlib.lines.Line2D at 0x24ff4346940>]"
      ]
     },
     "execution_count": 7,
     "metadata": {},
     "output_type": "execute_result"
    },
    {
     "data": {
      "image/png": "[encoded data removed]",
      "text/plain": [
       "<Figure size 432x288 with 1 Axes>"
      ]
     },
     "metadata": {
      "needs_background": "light"
     },
     "output_type": "display_data"
    }
   ],
   "source": [
    "plt.plot(error_ab2)"
   ]
  },
  {
   "cell_type": "markdown",
   "metadata": {},
   "source": [
    "# AM3"
   ]
  },
  {
   "cell_type": "code",
   "execution_count": 8,
   "metadata": {},
   "outputs": [],
   "source": [
    "t0 = 0\n",
    "Tf = 10.\n",
    "dti = 1./dt\n",
    "\n",
    "t = t0\n",
    "N = 100\n",
    "\n",
    "nsteps = int(round((Tf-t0)/dt))\n",
    "I = np.identity(N)\n",
    "IC = np.ones((N,1))\n",
    "\n",
    "#matrix compression\n",
    "A = sp.diags([1., -2., 1.], [-1, 0, 1], shape=[N, N], format = 'csr')\n",
    "Af = sp.csr_matrix.toarray(A)\n",
    "\n",
    "#diagonalize\n",
    "D, T = LA.eig(Af)"
   ]
  },
  {
   "cell_type": "code",
   "execution_count": 9,
   "metadata": {
    "scrolled": false
   },
   "outputs": [
    {
     "name": "stdout",
     "output_type": "stream",
     "text": [
      "5.3230193041930995e-05\n"
     ]
    }
   ],
   "source": [
    "mat1 = I - (5/12.) * dt * A\n",
    "mat2 = I + (2/3.) * dt * A\n",
    "mat3 = (dt/12.) * A\n",
    "\n",
    "uc1 = IC\n",
    "uc2 = (I + dt*A + dt*dt/2.*A*A) * uc1 # Heun\n",
    "z0 = LA.solve(T,uc2)\n",
    "error_am3 = np.zeros(nsteps)\n",
    "\n",
    "for k in range(2,nsteps):\n",
    "    t += dt\n",
    "    Dt = D*t\n",
    "    aux = mat2 * uc2 - mat3 * uc1\n",
    "    unew = LA.solve(mat1, aux)\n",
    "    uc1 = uc2\n",
    "    uc2 = unew\n",
    "    \n",
    "    yex = np.dot(T,np.dot(np.diag(np.exp(Dt)),z0))\n",
    "    error_am3[k] = np.max(np.abs(unew-yex))\n",
    "\n",
    "print(np.max(error_am3))"
   ]
  },
  {
   "cell_type": "code",
   "execution_count": 10,
   "metadata": {},
   "outputs": [
    {
     "data": {
      "text/plain": [
       "[<matplotlib.lines.Line2D at 0x24ff43e4f28>]"
      ]
     },
     "execution_count": 10,
     "metadata": {},
     "output_type": "execute_result"
    },
    {
     "data": {
      "image/png": "[encoded data removed]",
      "text/plain": [
       "<Figure size 432x288 with 1 Axes>"
      ]
     },
     "metadata": {
      "needs_background": "light"
     },
     "output_type": "display_data"
    }
   ],
   "source": [
    "plt.plot(error_am3)"
   ]
  }
 ],
 "metadata": {
  "kernelspec": {
   "display_name": "Python 3",
   "language": "python",
   "name": "python3"
  },
  "language_info": {
   "codemirror_mode": {
    "name": "ipython",
    "version": 3
   },
   "file_extension": ".py",
   "mimetype": "text/x-python",
   "name": "python",
   "nbconvert_exporter": "python",
   "pygments_lexer": "ipython3",
   "version": "3.8.5"
  },
  "latex_envs": {
   "LaTeX_envs_menu_present": true,
   "autoclose": false,
   "autocomplete": true,
   "bibliofile": "biblio.bib",
   "cite_by": "apalike",
   "current_citInitial": 1,
   "eqLabelWithNumbers": true,
   "eqNumInitial": 1,
   "hotkeys": {
    "equation": "Ctrl-E",
    "itemize": "Ctrl-I"
   },
   "labels_anchors": false,
   "latex_user_defs": false,
   "report_style_numbering": false,
   "user_envs_cfg": false
  },
  "toc": {
   "base_numbering": 1,
   "nav_menu": {},
   "number_sections": true,
   "sideBar": true,
   "skip_h1_title": false,
   "title_cell": "Table of Contents",
   "title_sidebar": "Contents",
   "toc_cell": false,
   "toc_position": {},
   "toc_section_display": true,
   "toc_window_display": false
  }
 },
 "nbformat": 4,
 "nbformat_minor": 2
}
