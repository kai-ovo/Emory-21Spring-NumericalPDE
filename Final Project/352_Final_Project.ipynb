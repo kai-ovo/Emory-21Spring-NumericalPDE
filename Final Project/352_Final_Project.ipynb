{
 "cells": [
  {
   "cell_type": "markdown",
   "metadata": {},
   "source": [
    "## 1-D Black and Scholes\n"
   ]
  },
  {
   "cell_type": "code",
   "execution_count": 18,
   "metadata": {},
   "outputs": [],
   "source": [
    "import numpy as np\n",
    "import scipy.sparse as sp\n",
    "import pandas as pd\n",
    "import matplotlib.pyplot as plt\n",
    "from numpy.linalg import solve\n",
    "import sys, time\n",
    "import scipy.linalg\n",
    "import scipy.sparse.linalg\n",
    "\n"
   ]
  },
  {
   "cell_type": "code",
   "execution_count": 27,
   "metadata": {},
   "outputs": [],
   "source": [
    "def mass(N,h):\n",
    "    return h * sp.diags([1/6, 4/6, 1/6], [-1,0,1], shape = [N,N], format = 'csr')   \n",
    "            \n",
    "def Af(xmax,h): # diffusion\n",
    "    N = int(xmax/h)\n",
    "    Af_ = np.zeros((N,N))\n",
    "    for i in range(N):\n",
    "        for j in range(N):\n",
    "            if abs(i-j) > 1:\n",
    "                Af_[i,j] = 0.\n",
    "            elif i==j:\n",
    "                Af_[i,j] = h/600*(6*i**2+2)\n",
    "            else:\n",
    "                idx = max(i,j)\n",
    "                Af_[i,j] = -h/600*(3*idx**2+3*idx+1)\n",
    "    return Af_\n",
    "                \n",
    "def Ad(xmax,h): # advection\n",
    "    N = int(xmax/h)\n",
    "    Ad_ = np.zeros((N,N))\n",
    "    for i in range(N):\n",
    "        for j in range(N):\n",
    "            if abs(i-j)>1:\n",
    "                Ad_[i,j] = 0\n",
    "            elif i==j:\n",
    "                Ad_[i,j] = -0.04*(2*i**2+2)*h/6\n",
    "            elif i<j:\n",
    "                Ad_[i,j] = -0.04 * (i**2+3*i+1) * h/6\n",
    "            else:\n",
    "                Ad_[i,j] = -0.04 * (i**2-3*i+1)*h/6\n",
    "    return Ad_\n",
    "\n",
    "def Ar(xmax,h): # reaction (essentially same as mass)\n",
    "    N = int(xmax)\n",
    "    return 0.05 * mass(N,h)\n",
    "\n",
    "def A(N,h):\n",
    "    return Ad(N,h) + Af(N,h) + Ar(N,h)\n",
    "\n",
    "def u0(xmax,h):\n",
    "    N = int(xmax/h)\n",
    "    u0_ = np.zeros((N))\n",
    "    E = 30\n",
    "    for i in range(N):\n",
    "        u0_[i] = max(E-(i+1)*h,0)\n",
    "    return u0_\n",
    "\n",
    "def U(xmax, h, theta, dt, Tf):\n",
    "    N = int(xmax/h)\n",
    "    M = mass(N,h)\n",
    "    A_ = A(N,h)\n",
    "    u0_ = u0(xmax,h)\n",
    "    n = int(Tf/dt)\n",
    "    U = np.zeros((N,n+1))\n",
    "    U[:,0] = u0_\n",
    "    for i in range(n):\n",
    "        leftMat = M+dt*theta*A_\n",
    "        rightMat = M-dt*(1-theta)*A_\n",
    "        un = rightMat*U[:,i].reshape(N,1)\n",
    "        ut = solve(leftMat, un)\n",
    "        U[:,i+1] = ut.reshape(N,)\n",
    "    return U"
   ]
  },
  {
   "cell_type": "code",
   "execution_count": 28,
   "metadata": {},
   "outputs": [],
   "source": [
    "## define problem\n",
    "xmax = 100\n",
    "h = 1\n",
    "Tf = 1\n",
    "dt = 0.01\n",
    "theta = 0.5\n",
    "U = U(xmax, h, theta, dt, Tf)\n"
   ]
  },
  {
   "cell_type": "code",
   "execution_count": 46,
   "metadata": {},
   "outputs": [
    {
     "name": "stdout",
     "output_type": "stream",
     "text": [
      "0.0\n"
     ]
    },
    {
     "data": {
      "image/png": "[encoded data removed]",
      "text/plain": [
       "<Figure size 432x288 with 1 Axes>"
      ]
     },
     "metadata": {
      "needs_background": "light"
     },
     "output_type": "display_data"
    }
   ],
   "source": [
    "# pd.DataFrame(U)\n",
    "plt.plot(U[:,0])\n",
    "print(U[32,0])\n"
   ]
  },
  {
   "cell_type": "markdown",
   "metadata": {},
   "source": [
    "## 2-D Black & Scholes"
   ]
  },
  {
   "cell_type": "code",
   "execution_count": null,
   "metadata": {},
   "outputs": [],
   "source": [
    "# 1D Black & Scholes\n",
    "\"\"\"\n",
    "MATH572 Parabolic Problems\n",
    "\n",
    "@author: Alessandro\n",
    "\"\"\"\n",
    "\n",
    "def IC(x,E):\n",
    "# initial conditions\n",
    "    N = x.size\n",
    "    v = np.zeros(N)\n",
    "    for i in range(0,N):\n",
    "        v[i] = max(x[i]-E,0.) # call\n",
    "        #v[i] = max(E-x[i],0.) # put\n",
    "        \n",
    "    return v\n",
    "#    return np.sin(np.pi*x)\n",
    "\n",
    "def BC(a,b,t,E,r):\n",
    "    uL = 0. # call\n",
    "    uR = b - E*np.exp(-r*t) # call\n",
    "    #uL = E*np.exp(-r*t)  # put\n",
    "    #uR = 0. # put\n",
    "    return uL, uR\n",
    "\n",
    "def f(x,t):\n",
    "    return 0.0\n",
    "\n",
    "\n",
    "# DEFINITION OF THE PROBLEM\n",
    "T = 1. # final time\n",
    "xl = 0. # leftmost point\n",
    "xr = 100. # righmost point (xM)\n",
    "\n",
    "sigma = 0.1 # volatility\n",
    "r = 0.05\n",
    "E = 30.\n",
    "\n",
    "\n",
    "# discretization parameters\n",
    "dt = 0.01\n",
    "h = 1.\n",
    "th = 1. # theta\n",
    "\n",
    "Nx = int(round(np.abs(xr-xl)/h))\n",
    "Nt = int(round(T/dt))\n",
    "\n",
    "# Space mesh & time mesh\n",
    "x = np.linspace(xl,xr,Nx+1)\n",
    "t = np.linspace(0,T,Nt+1)\n",
    "\n",
    "# Error computing data structures\n",
    "eil = np.zeros(Nt)\n",
    "el2l = np.zeros(Nt)\n",
    "\n",
    "\n",
    "# MATRIX ASSEMBLY (for time independent coefficients)\n",
    "u   = np.zeros(Nx+1)\n",
    "u_n = np.zeros(Nx+1)\n",
    "\n",
    "\n",
    "# Data structures for the linear system\n",
    "A = np.zeros((Nx+1, Nx+1))\n",
    "b = np.zeros(Nx+1)\n",
    "\n",
    "Ad =sp.diags([1., -2., 1.], [-1, 0, 1], shape=[Nx+1, Nx+1], format = 'csr') #basic discretization\n",
    "Ac =sp.diags([-1., 0., 1.], [-1, 0, 1], shape=[Nx+1, Nx+1], format = 'csr') #basic discretization\n",
    "Ar = r*sp.identity(Nx+1, format = 'csr')\n",
    "\n",
    "print(Ad)\n",
    "\n",
    "for i in range(1,Nx):\n",
    "    for j in range(i-1,i+2):\n",
    "        print(i,j)\n",
    "        Ad[i,j] = -0.5*(sigma**2)*(x[i]**2)/h**2*Ad[i,j]\n",
    "        Ac[i,j] = -r*x[i]/(2*h)*Ac[i,j]\n",
    "\n",
    "Ad[0, 0] = -0.5*(sigma**2)*x[0]**2/h**2*Ad[0,0]\n",
    "Ad[0, 1] = -0.5*(sigma**2)*x[0]**2/h**2*Ad[0,1]\n",
    "Ad[-1,-2] = -0.5*(sigma**2)*x[-1]**2/h**2*Ad[-1,-2]\n",
    "Ad[-1,-1] = -0.5*(sigma**2)*x[-1]**2/h**2*Ad[-1,-1]\n",
    "\n",
    "print(Ad)\n",
    "\n",
    "Ac[0, 0] =  -r*x[0]/(2*h)*Ac[0,0]\n",
    "Ac[0, 1] =  -r*x[0]/(2*h)*Ac[0,1]\n",
    "Ac[-1,-2] = -r*x[-1]/(2*h)*Ac[-1,-2]\n",
    "Ac[-1,-1] = -r*x[-1]/(2*h)*Ac[-1,-1]\n",
    "\n",
    "\n",
    "A = Ad + Ac + Ar\n",
    "\n",
    "LeftM = sp.identity(Nx+1, format = 'csr') + dt*th*A\n",
    "RightM = sp.identity(Nx+1, format = 'csr') - dt*(1-th)*A\n",
    "\n",
    "# boundary conditions\n",
    "aux_bc = 1.\n",
    "LeftM[0, 1] = 0.\n",
    "LeftM[-1, -2] = 0.\n",
    "LeftM[0, 0] = aux_bc\n",
    "LeftM[-1, -1] = aux_bc\n",
    "\n",
    "\n",
    "# REM: We could factorize the matrix LeftM here\n",
    "\n",
    "# Initial conditions\n",
    "tc = 0 # current time\n",
    "u_n = IC(x, E)\n",
    "# visualize(x,tc,u_n)\n",
    "\n",
    "# TIME LOOP\n",
    "for n in range(0,Nt):\n",
    "    tc += dt\n",
    "    print(\"Computing at time\", tc)\n",
    "    # right hand side\n",
    "    b = dt*(th*f(x,tc)+(1-th)*f(x,tc-dt)) + RightM*u_n\n",
    "    uL, uR = BC(xl,xr,tc, E, r)\n",
    "    b[0] = aux_bc*uL\n",
    "    b[-1] = aux_bc*uR\n",
    "    u = sp.linalg.spsolve(LeftM, b)\n",
    "#     print(u)\n",
    "#     visualize(x,tc,u)\n",
    "    u_n = u\n",
    "\n"
   ]
  },
  {
   "cell_type": "code",
   "execution_count": 26,
   "metadata": {},
   "outputs": [],
   "source": [
    "# build matrix A\n",
    "def buildA(spaceMax, h):\n",
    "    sigma1 = 0.1\n",
    "    sigma2 = 0.3\n",
    "    rho = 0.5\n",
    "    r = 0.1\n",
    "    N = int(spaceMax/h)+1\n",
    "    A = np.zeros((N*N,N*N)) # size (N-1) * (N-1)\n",
    "    \n",
    "    for j in range(N): # adjust boundary coefficients\n",
    "        A[j,j] = 1\n",
    "        A[-j,-j] = 1\n",
    "        A[j*N, j*N] = 1\n",
    "        A[(j+1)*(N-1), (j+1)*(N-1)] = 1\n",
    "        \n",
    "    for i in range(1,N-1):\n",
    "        xi = i*h\n",
    "        for j in range(1,N-1):\n",
    "            yj = j*h\n",
    "            A[i*N+j, i*N+j] = sigma1**2 * xi**2 / h**2 + sigma2**2 * yj**2 / h**2 +r  #V_{i}{j}\n",
    "            A[i*N+j, i*N+j-1] = -0.5 * (sigma2 * yj / h)**2 + r*yj/(2*h)  #V_{i}{j-1}\n",
    "            A[i*N+j, i*N+j+1] = -0.5 * (sigma2 * yj / h)**2 - r*yj/(2*h)  #V_{i}{j+1}\n",
    "            A[i*N+j, (i+1)*N + j] = -0.5 * (sigma1 * xi / h)**2 - r*xi/(2*h)  #V_{i+1}{j}\n",
    "            A[i*N+j, (i+1)*N + j-1] = rho*sigma1*sigma2*xi*yj/(4*h**2)  #V_{i+1}{j-1}\n",
    "            A[i*N+j, (i+1)*N + j+1] = -rho*sigma1*sigma2*xi*yj/(4*h**2) #V_{i+1}{j+1}\n",
    "            A[i*N+j, (i-1)*N + j] = -0.5 * (sigma1 * xi / h)**2 + r*xi/(2*h)  #V_{i-1}{j}\n",
    "            A[i*N+j, (i-1)*N + j-1] = -rho*sigma1*sigma2*xi*yj/(4*h**2)  #V_{i-1}{j-1}\n",
    "            A[i*N+j, (i-1)*N + j+1] = rho*sigma1*sigma2*xi*yj/(4*h**2)  #V_{i-1}{j+1}\n",
    "    \n",
    "    return A\n",
    "\n",
    "\n",
    "\n",
    "def V_0y(j,t,h):\n",
    "    return gy(j*h,t) # boundary condition\n",
    "\n",
    "    \n",
    "def V_x0(i,t,h):\n",
    "    return gx(i*h,t) # boundary condition\n",
    "\n",
    "def vec(t,spaceMax,h): # this is the vector generated naturally in the system due to adjustment of boundary contitions\n",
    "    N = int(spaceMax/h)+1\n",
    "    b = np.zeros((N*N,1))\n",
    "    for j in range(N):\n",
    "        b[j] = V_0y(j,t,h)\n",
    "        b[-j] = 0. # for the sake of completeness\n",
    "    for i in range(N):\n",
    "        b[i*N] = V_x0(i,t,h)\n",
    "        b[(i+1)*(N-1)] = 0 # for the sake of completeness\n",
    "    \n",
    "    return b\n",
    "\n",
    "# IC\n",
    "def IC(x,y):\n",
    "    E=30\n",
    "    return max(0, E-(x+y))\n",
    "\n",
    "def V_t0(spaceMax, h):\n",
    "    N = int(spaceMax/h)+1\n",
    "    v0 = np.zeros((N*N,1))\n",
    "    for i in range(N):\n",
    "        xi = i*h\n",
    "        for j in range(N):\n",
    "            yi = j*h\n",
    "            v0[i*N+j] = IC(xi,yj)\n",
    "    \n",
    "    return v0\n",
    "    \n",
    "def fullDiscretization(Tf, dt, theta, spaceMax, h):\n",
    "    N = int(spaceMax/h)+1 # number of space nodes\n",
    "    n = int(Tf/dt) # number of time nodes\n",
    "    A = buildA(spaceMax,h) # coefficient matrix\n",
    "    v0 = V_t0(spaceMax,h) # initial condition\n",
    "    V = v0 \n",
    "    I = np.identity(N**2) # identity matrix of size N^2\n",
    "    leftMat = I + dt*theta*A\n",
    "    rightMat = I - dt*(1-theta)*A\n",
    "    for i in range(n): # loop over time\n",
    "        ti = (i+1)*dt\n",
    "        rightVec = vec(ti,spaceMax,h)\n",
    "        vn = V[:,i]\n",
    "        RHS = np.dot(rightMax,vn) + rightVec\n",
    "        vt = solve(leftMat, RHS)\n",
    "        V = np.append(V, vt, axis=1)\n",
    "    \n",
    "    return V\n",
    "    "
   ]
  },
  {
   "cell_type": "code",
   "execution_count": 16,
   "metadata": {},
   "outputs": [],
   "source": [
    "# define problem\n",
    "spaceMax = 100\n",
    "h = 1\n",
    "A = buildA(spaceMax, h)"
   ]
  },
  {
   "cell_type": "code",
   "execution_count": 17,
   "metadata": {},
   "outputs": [
    {
     "data": {
      "text/plain": [
       "<matplotlib.image.AxesImage at 0x15e30aa90>"
      ]
     },
     "execution_count": 17,
     "metadata": {},
     "output_type": "execute_result"
    },
    {
     "data": {
      "image/png": "[encoded data removed]",
      "text/plain": [
       "<Figure size 432x288 with 1 Axes>"
      ]
     },
     "metadata": {
      "needs_background": "light"
     },
     "output_type": "display_data"
    }
   ],
   "source": [
    "plt.spy(A)"
   ]
  },
  {
   "cell_type": "code",
   "execution_count": 23,
   "metadata": {},
   "outputs": [
    {
     "name": "stdout",
     "output_type": "stream",
     "text": [
      "[0.]\n"
     ]
    }
   ],
   "source": [
    "print(np.zeros((10,1))[4])"
   ]
  },
  {
   "cell_type": "code",
   "execution_count": null,
   "metadata": {},
   "outputs": [],
   "source": []
  }
 ],
 "metadata": {
  "kernelspec": {
   "display_name": "Python 3",
   "language": "python",
   "name": "python3"
  },
  "language_info": {
   "codemirror_mode": {
    "name": "ipython",
    "version": 3
   },
   "file_extension": ".py",
   "mimetype": "text/x-python",
   "name": "python",
   "nbconvert_exporter": "python",
   "pygments_lexer": "ipython3",
   "version": "3.8.5"
  }
 },
 "nbformat": 4,
 "nbformat_minor": 4
}
